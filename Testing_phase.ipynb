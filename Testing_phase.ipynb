{
 "cells": [
  {
   "cell_type": "code",
   "execution_count": 1,
   "metadata": {},
   "outputs": [
    {
     "data": {
      "application/javascript": [
       " \n",
       "Jupyter.keyboard_manager.command_shortcuts.remove_shortcut('up');\n",
       "Jupyter.keyboard_manager.command_shortcuts.remove_shortcut('down')\n"
      ],
      "text/plain": [
       "<IPython.core.display.Javascript object>"
      ]
     },
     "metadata": {},
     "output_type": "display_data"
    }
   ],
   "source": [
    "%%javascript\n",
    " \n",
    "Jupyter.keyboard_manager.command_shortcuts.remove_shortcut('up');\n",
    "Jupyter.keyboard_manager.command_shortcuts.remove_shortcut('down')\n"
   ]
  },
  {
   "cell_type": "code",
   "execution_count": 1,
   "metadata": {},
   "outputs": [],
   "source": [
    "import pandas as pd\n",
    "import calendar\n",
    "from datetime import datetime\n",
    "import _pickle as cPickle\n",
    "import os\n",
    "import numpy as np\n",
    "import warnings\n",
    "warnings.filterwarnings(\"ignore\")"
   ]
  },
  {
   "cell_type": "code",
   "execution_count": 2,
   "metadata": {},
   "outputs": [],
   "source": [
    "test_dataset = pd.read_csv(\"sample_test.csv\")"
   ]
  },
  {
   "cell_type": "code",
   "execution_count": 3,
   "metadata": {},
   "outputs": [],
   "source": [
    "test_dataset['sensor_id'] = test_dataset.sensor_id.astype(\"category\")\n",
    "#cleaning the start and end time\n",
    "test_dataset['start_time'] = test_dataset['start_time'].astype(\"str\")\n",
    "test_dataset['start_time'] = test_dataset['start_time'].str.replace('T',' ')\n",
    "test_dataset['start_time'] = test_dataset['start_time'].str.replace('Z','')\n",
    "\n",
    "test_dataset['end_time'] = test_dataset['end_time'].str.replace('T',' ')\n",
    "test_dataset['end_time'] = test_dataset['end_time'].str.replace('Z','')\n",
    "\n",
    "test_dataset['start_time'] = test_dataset.start_time.str[1:-1]\n",
    "test_dataset['end_time'] = test_dataset.end_time.str[1:-1]"
   ]
  },
  {
   "cell_type": "markdown",
   "metadata": {},
   "source": [
    "### Rule based algorithm to derive shower duration "
   ]
  },
  {
   "cell_type": "code",
   "execution_count": 4,
   "metadata": {
    "scrolled": false
   },
   "outputs": [],
   "source": [
    "from datetime import datetime\n",
    "test_shower_activity_recognition = test_dataset[(test_dataset.sensor_id == 3802) & (test_dataset.is_original ==1) & \n",
    "                                         (test_dataset.value == 1)]\n",
    "\n",
    "\n",
    "\n",
    "test_shower_activity_recognition['start_time'] = pd.to_datetime(test_shower_activity_recognition['start_time'], \n",
    "                                                           format='%Y-%m-%d %H:%M:%S.%f')\n",
    "test_shower_activity_recognition['end_time'] = pd.to_datetime(test_shower_activity_recognition['end_time'], \n",
    "                                                              format='%Y-%m-%d %H:%M:%S.%f')\n",
    "\n",
    "test_shower_activity_recognition['Duration_seconds'] = (test_shower_activity_recognition.end_time - \n",
    "                                                test_shower_activity_recognition.start_time).astype('timedelta64[s]')\n",
    "\n",
    "test_shower_activity_recognition['minutes'] = test_shower_activity_recognition.end_time.sub(test_shower_activity_recognition.start_time).dt.total_seconds().div(60)\n",
    "test_shower_activity_recognition['minutes'] = test_shower_activity_recognition.minutes.astype(int)"
   ]
  },
  {
   "cell_type": "code",
   "execution_count": 5,
   "metadata": {},
   "outputs": [
    {
     "data": {
      "text/plain": [
       "id                           int64\n",
       "sensor_id                 category\n",
       "value                      float64\n",
       "start_time          datetime64[ns]\n",
       "end_time            datetime64[ns]\n",
       "duration                   float64\n",
       "is_original                  int64\n",
       "Duration_seconds           float64\n",
       "minutes                      int32\n",
       "dtype: object"
      ]
     },
     "execution_count": 5,
     "metadata": {},
     "output_type": "execute_result"
    }
   ],
   "source": [
    "test_shower_activity_recognition.dtypes"
   ]
  },
  {
   "cell_type": "markdown",
   "metadata": {},
   "source": [
    "### Knowing the Duration between each subsequent Shower"
   ]
  },
  {
   "cell_type": "code",
   "execution_count": 6,
   "metadata": {},
   "outputs": [],
   "source": [
    "test_non_shower_usage_duration = test_dataset[(test_dataset.sensor_id == 3802) & (test_dataset.is_original ==1) & \n",
    "                                         (test_dataset.value == 0)]\n",
    "\n",
    "\n",
    "test_non_shower_usage_duration.drop(\"duration\",inplace=True,axis=1)\n",
    "test_non_shower_usage_duration['start_time'] = pd.to_datetime(test_non_shower_usage_duration['start_time'],\n",
    "                                                              format='%Y-%m-%d %H:%M:%S.%f')\n",
    "test_non_shower_usage_duration['end_time'] = pd.to_datetime(test_non_shower_usage_duration['end_time'],\n",
    "                                                            format='%Y-%m-%d %H:%M:%S.%f')\n",
    "\n",
    "test_non_shower_usage_duration['duration'] = (test_non_shower_usage_duration.end_time -\n",
    "                                              test_non_shower_usage_duration.start_time).astype('timedelta64[s]')\n",
    "\n",
    "test_non_shower_usage_duration['minutes'] = test_non_shower_usage_duration.end_time.sub(test_non_shower_usage_duration.start_time).dt.total_seconds().div(60)\n",
    "test_non_shower_usage_duration['minutes'] = test_non_shower_usage_duration.minutes.astype(int)"
   ]
  },
  {
   "cell_type": "code",
   "execution_count": 7,
   "metadata": {},
   "outputs": [
    {
     "data": {
      "text/html": [
       "<div>\n",
       "<style scoped>\n",
       "    .dataframe tbody tr th:only-of-type {\n",
       "        vertical-align: middle;\n",
       "    }\n",
       "\n",
       "    .dataframe tbody tr th {\n",
       "        vertical-align: top;\n",
       "    }\n",
       "\n",
       "    .dataframe thead th {\n",
       "        text-align: right;\n",
       "    }\n",
       "</style>\n",
       "<table border=\"1\" class=\"dataframe\">\n",
       "  <thead>\n",
       "    <tr style=\"text-align: right;\">\n",
       "      <th></th>\n",
       "      <th>id</th>\n",
       "      <th>sensor_id</th>\n",
       "      <th>value</th>\n",
       "      <th>start_time</th>\n",
       "      <th>end_time</th>\n",
       "      <th>is_original</th>\n",
       "      <th>duration</th>\n",
       "      <th>minutes</th>\n",
       "    </tr>\n",
       "  </thead>\n",
       "  <tbody>\n",
       "    <tr>\n",
       "      <th>2</th>\n",
       "      <td>4998417</td>\n",
       "      <td>3802</td>\n",
       "      <td>0.0</td>\n",
       "      <td>2017-06-01 10:36:28</td>\n",
       "      <td>2017-06-01 18:50:48</td>\n",
       "      <td>1</td>\n",
       "      <td>29660.0</td>\n",
       "      <td>494</td>\n",
       "    </tr>\n",
       "    <tr>\n",
       "      <th>4</th>\n",
       "      <td>5002934</td>\n",
       "      <td>3802</td>\n",
       "      <td>0.0</td>\n",
       "      <td>2017-06-01 18:54:47</td>\n",
       "      <td>2017-06-01 18:59:02</td>\n",
       "      <td>1</td>\n",
       "      <td>255.0</td>\n",
       "      <td>4</td>\n",
       "    </tr>\n",
       "    <tr>\n",
       "      <th>6</th>\n",
       "      <td>5003025</td>\n",
       "      <td>3802</td>\n",
       "      <td>0.0</td>\n",
       "      <td>2017-06-01 19:13:07</td>\n",
       "      <td>2017-06-02 04:00:00</td>\n",
       "      <td>1</td>\n",
       "      <td>31613.0</td>\n",
       "      <td>526</td>\n",
       "    </tr>\n",
       "    <tr>\n",
       "      <th>9</th>\n",
       "      <td>5014581</td>\n",
       "      <td>3802</td>\n",
       "      <td>0.0</td>\n",
       "      <td>2017-06-02 19:44:52</td>\n",
       "      <td>2017-06-03 04:00:00</td>\n",
       "      <td>1</td>\n",
       "      <td>29708.0</td>\n",
       "      <td>495</td>\n",
       "    </tr>\n",
       "    <tr>\n",
       "      <th>12</th>\n",
       "      <td>5025240</td>\n",
       "      <td>3802</td>\n",
       "      <td>0.0</td>\n",
       "      <td>2017-06-03 19:14:34</td>\n",
       "      <td>2017-06-04 04:00:00</td>\n",
       "      <td>1</td>\n",
       "      <td>31526.0</td>\n",
       "      <td>525</td>\n",
       "    </tr>\n",
       "  </tbody>\n",
       "</table>\n",
       "</div>"
      ],
      "text/plain": [
       "         id sensor_id  value          start_time            end_time  \\\n",
       "2   4998417      3802    0.0 2017-06-01 10:36:28 2017-06-01 18:50:48   \n",
       "4   5002934      3802    0.0 2017-06-01 18:54:47 2017-06-01 18:59:02   \n",
       "6   5003025      3802    0.0 2017-06-01 19:13:07 2017-06-02 04:00:00   \n",
       "9   5014581      3802    0.0 2017-06-02 19:44:52 2017-06-03 04:00:00   \n",
       "12  5025240      3802    0.0 2017-06-03 19:14:34 2017-06-04 04:00:00   \n",
       "\n",
       "    is_original  duration  minutes  \n",
       "2             1   29660.0      494  \n",
       "4             1     255.0        4  \n",
       "6             1   31613.0      526  \n",
       "9             1   29708.0      495  \n",
       "12            1   31526.0      525  "
      ]
     },
     "execution_count": 7,
     "metadata": {},
     "output_type": "execute_result"
    }
   ],
   "source": [
    "test_non_shower_usage_duration.head()"
   ]
  },
  {
   "cell_type": "code",
   "execution_count": null,
   "metadata": {},
   "outputs": [],
   "source": []
  },
  {
   "cell_type": "code",
   "execution_count": null,
   "metadata": {},
   "outputs": [],
   "source": []
  },
  {
   "cell_type": "markdown",
   "metadata": {},
   "source": [
    "### Testing ML Model"
   ]
  },
  {
   "cell_type": "code",
   "execution_count": 8,
   "metadata": {},
   "outputs": [],
   "source": [
    "\n",
    "cwd = os.getcwd()\n",
    "test_dataset.drop(\"id\",axis=1,inplace=True)\n",
    "test_dataset['is_original'] = test_dataset.is_original.astype(\"category\")"
   ]
  },
  {
   "cell_type": "code",
   "execution_count": 9,
   "metadata": {
    "scrolled": false
   },
   "outputs": [],
   "source": [
    "test_dataset['start_time'] = test_dataset.start_time.astype(\"str\")\n",
    "test_dataset[\"date\"] = test_dataset.start_time.apply(lambda x : x.split()[0])\n",
    "test_dataset[\"hour\"] = test_dataset.start_time.apply(lambda x : x.split()[1].split(\":\")[0])\n",
    "test_dataset[\"weekday\"] = test_dataset.date.apply(lambda dateString : calendar.day_name[datetime.strptime(dateString,\"%Y-%m-%d\").weekday()])"
   ]
  },
  {
   "cell_type": "code",
   "execution_count": 10,
   "metadata": {},
   "outputs": [],
   "source": [
    "test_dataset[\"sensor\"] = test_dataset.sensor_id.map({3802: \"In Shower\", 3803 : \"Temperature in Shower\",\n",
    "                                                 3804 : \"Light Levels in Shower\", 3805 :\"Humidity in Shower\",\n",
    "                                                 3807 : \"In Bathroom\", 3809 : \"Toilet Flushed, Master\" })\n"
   ]
  },
  {
   "cell_type": "code",
   "execution_count": 11,
   "metadata": {},
   "outputs": [],
   "source": [
    "def round_int(x):\n",
    "    if x == float(\"inf\") or x == float(\"-inf\"):\n",
    "        return float('nan')\n",
    "    return int(round(x))"
   ]
  },
  {
   "cell_type": "code",
   "execution_count": 12,
   "metadata": {},
   "outputs": [],
   "source": [
    "test_dataset['value_roundoff'] = test_dataset.value.apply(round_int)"
   ]
  },
  {
   "cell_type": "code",
   "execution_count": 13,
   "metadata": {},
   "outputs": [],
   "source": [
    "test_dataset['duration_roundoff'] = test_dataset.duration.apply(round_int)"
   ]
  },
  {
   "cell_type": "code",
   "execution_count": 14,
   "metadata": {},
   "outputs": [],
   "source": [
    "test_dataset[\"weekday_num\"] = test_dataset.weekday.map({\"Sunday\" : 0, \"Monday\" : 1,\n",
    "                                                 \"Tuesday\" : 2, \"Wednesday\" : 3,\n",
    "                                                 \"Thursday\" : 4, \"Friday\" : 5,\n",
    "                                                     \"Saturday\" : 6})\n"
   ]
  },
  {
   "cell_type": "code",
   "execution_count": 15,
   "metadata": {},
   "outputs": [],
   "source": [
    "categoricalFeatureNames = [\"sensor_id\",\"is_original\",\"hour\",\"weekday_num\"]\n",
    "numericalFeatureNames = [\"value_roundoff\",\"duration_roundoff\"]\n",
    "dropFeatures = ['value',\"start_time\",\"end_time\",\"duration\",\"date\",\"weekday\"]"
   ]
  },
  {
   "cell_type": "code",
   "execution_count": 16,
   "metadata": {},
   "outputs": [],
   "source": [
    "data_cleaned_test = pd.DataFrame()\n",
    "for var in categoricalFeatureNames:\n",
    "    data_cleaned_test[var] = test_dataset[var].astype(\"category\")\n",
    "\n",
    "for var in numericalFeatureNames:\n",
    "    data_cleaned_test[var] = test_dataset[var].astype(\"int\")\n"
   ]
  },
  {
   "cell_type": "code",
   "execution_count": 17,
   "metadata": {},
   "outputs": [],
   "source": [
    "data_cleaned_test = data_cleaned_test[data_cleaned_test['duration_roundoff'] <= 900]"
   ]
  },
  {
   "cell_type": "code",
   "execution_count": 18,
   "metadata": {},
   "outputs": [],
   "source": [
    "X_testing = data_cleaned_test.drop(\"duration_roundoff\",axis=1)\n",
    "y_testing = data_cleaned_test['duration_roundoff']"
   ]
  },
  {
   "cell_type": "code",
   "execution_count": 19,
   "metadata": {},
   "outputs": [],
   "source": [
    "def rmsle(y, y_,convertExp=True):\n",
    "    if convertExp:\n",
    "        y = np.exp(y),\n",
    "        y_ = np.exp(y_)\n",
    "    log1 = np.nan_to_num(np.array([np.log(v + 1) for v in y]))\n",
    "    log2 = np.nan_to_num(np.array([np.log(v + 1) for v in y_]))\n",
    "    calc = (log1 - log2) ** 2\n",
    "    return np.sqrt(np.mean(calc))"
   ]
  },
  {
   "cell_type": "markdown",
   "metadata": {},
   "source": [
    "## Applying Random Forest"
   ]
  },
  {
   "cell_type": "code",
   "execution_count": 20,
   "metadata": {},
   "outputs": [],
   "source": [
    "with open(cwd + \"\\\\rf.cpickle\", 'rb') as f:\n",
    "    rf_model = cPickle.load(f)"
   ]
  },
  {
   "cell_type": "code",
   "execution_count": 21,
   "metadata": {},
   "outputs": [
    {
     "name": "stdout",
     "output_type": "stream",
     "text": [
      "RMSLE Value For Random Forest:  0.051619906802925816\n"
     ]
    }
   ],
   "source": [
    "from sklearn.ensemble import RandomForestRegressor #importing random forest regressor\n",
    "preds = rf_model.predict(X= X_testing)\n",
    "\n",
    "y_testing_log = np.log1p(y_testing)\n",
    "\n",
    "print (\"RMSLE Value For Random Forest: \",rmsle(np.exp(y_testing_log),np.exp(preds),False))"
   ]
  },
  {
   "cell_type": "code",
   "execution_count": null,
   "metadata": {},
   "outputs": [],
   "source": []
  },
  {
   "cell_type": "markdown",
   "metadata": {},
   "source": [
    "## Applying GBM"
   ]
  },
  {
   "cell_type": "code",
   "execution_count": 23,
   "metadata": {},
   "outputs": [],
   "source": [
    "filename = 'gbm.sav'\n",
    "gbm_model = cPickle.load(open(filename, 'rb'))"
   ]
  },
  {
   "cell_type": "code",
   "execution_count": 24,
   "metadata": {},
   "outputs": [
    {
     "name": "stdout",
     "output_type": "stream",
     "text": [
      "RMSLE Value For Gradient Boost on Test Dataset:  0.059906899228998896\n"
     ]
    }
   ],
   "source": [
    "y_log_test = y_log_test = np.log1p(y_testing)\n",
    "pred_y_test = gbm_model.predict(X= X_testing)\n",
    "print (\"RMSLE Value For Gradient Boost on Test Dataset: \",rmsle(np.exp(y_log_test),np.exp(pred_y_test),False))"
   ]
  },
  {
   "cell_type": "code",
   "execution_count": null,
   "metadata": {},
   "outputs": [],
   "source": []
  },
  {
   "cell_type": "code",
   "execution_count": null,
   "metadata": {},
   "outputs": [],
   "source": []
  },
  {
   "cell_type": "code",
   "execution_count": null,
   "metadata": {},
   "outputs": [],
   "source": []
  }
 ],
 "metadata": {
  "kernelspec": {
   "display_name": "Python 3",
   "language": "python",
   "name": "python3"
  },
  "language_info": {
   "codemirror_mode": {
    "name": "ipython",
    "version": 3
   },
   "file_extension": ".py",
   "mimetype": "text/x-python",
   "name": "python",
   "nbconvert_exporter": "python",
   "pygments_lexer": "ipython3",
   "version": "3.7.3"
  }
 },
 "nbformat": 4,
 "nbformat_minor": 2
}
